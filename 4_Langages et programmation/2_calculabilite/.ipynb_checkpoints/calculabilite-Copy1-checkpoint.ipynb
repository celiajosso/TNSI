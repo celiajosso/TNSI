{
 "cells": [
  {
   "cell_type": "markdown",
   "metadata": {},
   "source": [
    "# Calculabilité - Problème de l’arrêt en Python (2)"
   ]
  },
  {
   "cell_type": "markdown",
   "metadata": {},
   "source": [
    "On dit qu’une fonction termine si elle renvoie une valeur ou si elle lève une exception (par exemple `ZeroDivisionError` si une division par zéro est tentée). Une fonction peut terminer ou continuer à calculer à l’infini. \n",
    "\n",
    "Ainsi, la fonction `ma_fonction` (voir ci-dessous), pour un entier `n`, termine pour `n` inférieur ou égal à 10 (elle renvoie None) et ne termine pas pour `n` strictement plus grand que 10. En outre, cette fonction termine pour une chaîne de caractères `n` (en levant l’exception `TypeError` à cause de l’opération `+`)."
   ]
  },
  {
   "cell_type": "code",
   "execution_count": null,
   "metadata": {},
   "outputs": [],
   "source": [
    "def ma_fonction (n):\n",
    "  while n != 10 :\n",
    "    n = n + 1"
   ]
  },
  {
   "cell_type": "markdown",
   "metadata": {},
   "source": [
    "On pourrait penser qu’il serait utile d’avoir en Python une fonction arrêt, qui termine sur toutes les entrées possibles, et telle que `arret(f, x)` renvoie `True` si le calcul de `f(x)` termine et `False` sinon. Une telle fonction, si elle était ajoutée au langage, permettrait d’éviter les boucles infinies en faisant un simple test."
   ]
  },
  {
   "cell_type": "markdown",
   "metadata": {},
   "source": [
    "Si on voulait programmer une telle fonction, il serait naturel que la fonction `arret` accède au code de la fonction `f` (ce qui est possible grâce au module dis), et analyse ce code, par quelque moyen compliqué, pour en déduire si oui ou non le calcul de `f(x)` va un jour terminer."
   ]
  },
  {
   "cell_type": "markdown",
   "metadata": {},
   "source": [
    "La question \" Est-il possible de programmer une telle fonction \" est connue sous le nom de __\"problème de l’arrêt\"__. Nous allons montrer qu’une telle fonction ne peut pas exister par un raisonnement par l’absurde. Supposons que quelqu’un ait réussi à programmer cette fonction arrêt. Nous pouvons alors l’utiliser pour programmer la fonction `strange`suivante :"
   ]
  },
  {
   "cell_type": "code",
   "execution_count": null,
   "metadata": {},
   "outputs": [],
   "source": [
    "def strange(f, x):\n",
    "  if arret(f, x):\n",
    "    while True:\n",
    "      pass"
   ]
  },
  {
   "cell_type": "markdown",
   "metadata": {},
   "source": [
    "Cette fonction teste si le calcul de `f(x)` termine, si c’est le cas, elle rentre dans une boucle infinie dans laquelle elle ne fait rien. Si ce n’est pas le cas, elle ne fait rien et termine. Autrement dit, `strange(f, x)` termine si et seulement si `f(x)` ne termine pas.\n",
    "\n",
    "La précédente fonction nous permet d’en définir une nouvelle, la fonction `paradox`."
   ]
  },
  {
   "cell_type": "code",
   "execution_count": null,
   "metadata": {},
   "outputs": [],
   "source": [
    "def paradox(f):\n",
    "  strange(f, f)"
   ]
  },
  {
   "cell_type": "markdown",
   "metadata": {},
   "source": [
    "Par construction, le calcul de `paradox(f)` termine si et seulement si le calcul de `f(f)` ne termine pas. Appelons (1) cette propriété."
   ]
  },
  {
   "cell_type": "markdown",
   "metadata": {},
   "source": [
    "Maintenant, demandons-nous si le calcul de `paradox(paradox)` termine. Pour cela, dans la propriété (1), remplaçons `f` par `paradox`. La propriété devient : \" le calcul de paradox(paradox) termine si et seulement si le calcul de paradox(paradox) ne termine pas “.\n",
    "\n",
    "Cette dernière propriété est évidemment contradictoire, fausse.\n",
    "\n",
    "Nous pouvons donc conclure notre raisonnement par l’absurde et affirmer qu’il est impossible de programmer la fonction arrêt.\n",
    "\n",
    "Remarque. Cela reste impossible même si on se limite à ce que les arguments de arrêt soient une fonction `f` des entiers dans les entiers et un entier `x`. Pourquoi ? Simplement parce que n’importe quelle valeur de n’importe quel type sera représenté en machine par une suite d’octet, soit à peu près un entier naturel."
   ]
  },
  {
   "cell_type": "markdown",
   "metadata": {},
   "source": [
    "# A retenir :\n",
    "\n",
    "> Tout programme est une donnée\n",
    "\n",
    "> Un **problème de décision** est une question s'appliquant aux éléments d'un ensemble et à laquelle la réponse est, pour chaque élément, soit oui, soit non. Un tel problème est dit **décidable** lorsqu'il existe un **algorithme** qui, **pour chaque élément**, calcule à coup sûr et en temps fini la réponse correspondante. Il existe des problèmes qui ne sont pas décidables, à commencer par le problème de l'arrêt, qui s'applique à l'ensemble des algorithmes et demande de répondre à la question \"l'exécution de cet algorithme s'arrête-t-elle ?\". La notion de décidabilité est **indépendante du langage de programmation**."
   ]
  },
  {
   "cell_type": "markdown",
   "metadata": {},
   "source": [
    "# Sources :\n",
    "1. [qkzk informatique au lycée des flandres](https://qkzk.xyz/docs/nsi/cours_terminale/prog/calculabilite/) Licence  CC-BY-NC\n",
    "2. [NSI Terminale](https://isn-icn-ljm.pagesperso-orange.fr/NSI-TLE/co/section_chapitre0.html)Licence CC-BY-NC\n",
    "3. Livre \"NSI 24 leçons avec exercices corrigés\" Edition Ellipses\n",
    "4. [pixees](https://pixees.fr/informatiquelycee/n_site/nsi_term_calcu.html) licence CC-BY-SA "
   ]
  }
 ],
 "metadata": {
  "kernelspec": {
   "display_name": "Python 3",
   "language": "python",
   "name": "python3"
  },
  "language_info": {
   "codemirror_mode": {
    "name": "ipython",
    "version": 3
   },
   "file_extension": ".py",
   "mimetype": "text/x-python",
   "name": "python",
   "nbconvert_exporter": "python",
   "pygments_lexer": "ipython3",
   "version": "3.8.3"
  }
 },
 "nbformat": 4,
 "nbformat_minor": 4
}
