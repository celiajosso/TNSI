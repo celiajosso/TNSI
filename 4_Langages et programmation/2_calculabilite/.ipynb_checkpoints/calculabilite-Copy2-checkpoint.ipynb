{
 "cells": [
  {
   "cell_type": "markdown",
   "metadata": {},
   "source": [
    "# Calculabilité - Exercices (3)"
   ]
  },
  {
   "cell_type": "markdown",
   "metadata": {},
   "source": [
    "Revoir la vidéo ci dessus sur les machines de turing en complément du PDF [computerpaper](http://www.espace-turing.fr/IMG/pdf/computerpaper.pdf)"
   ]
  },
  {
   "cell_type": "code",
   "execution_count": null,
   "metadata": {},
   "outputs": [],
   "source": [
    "from IPython.display import YouTubeVideo\n",
    "YouTubeVideo('https://youtu.be/P66h8D5Lkwk')"
   ]
  },
  {
   "cell_type": "markdown",
   "metadata": {},
   "source": [
    "## Exercice 1 :"
   ]
  },
  {
   "cell_type": "markdown",
   "metadata": {},
   "source": [
    "Voici un ensemble de règles de transition pour une machine de Turing. Son état initial est `P` et son état final est `F`.\n",
    "\n",
    "Note : la puce pleine (ou rond noir) dans la table de transition ci dessous correspond au symbole blanc."
   ]
  },
  {
   "cell_type": "markdown",
   "metadata": {},
   "source": [
    "\n",
    "<img src=\"data/ex1.jpg\" alt=\"table de transition\" style=\"width:25%;\"/>"
   ]
  },
  {
   "cell_type": "markdown",
   "metadata": {},
   "source": [
    "Avec quel alphabet travaille cette machine ?\n",
    "\n",
    "Quels sont les états de la machine ?\n",
    "\n",
    "Exécuter cette machine avec l'entrée ['1','0','0','1'] puis sur l'entrée ['1','1','1','0'], en considérant à chaque fois qu'en dehors de cette entrée, le ruban est intégralement rempli par le symbole blanc.\n",
    "\n",
    "Comment se comporte cette machine pour chacun des états ? Que fait-elle ?\n",
    "\n",
    "Vous pouvez également la tester sur d'autres entrées comme ['0','1','0']"
   ]
  },
  {
   "cell_type": "markdown",
   "metadata": {},
   "source": [
    "## Exercice 2 :"
   ]
  },
  {
   "cell_type": "markdown",
   "metadata": {},
   "source": [
    "Définir une machine de Turing qui décale son entrée d'une case vers la droite.\n",
    "\n",
    "On supposera que l'entrée est composée des symboles 0 et 1 et bordée de symboles blancs. \n",
    "On supposera également que la position de départ de la machine est l'extrémité gauche de l'entrée."
   ]
  },
  {
   "cell_type": "markdown",
   "metadata": {},
   "source": [
    "# Sources :\n",
    "Livre \"NSI 24 leçons avec exercices corrigés\" Edition Ellipses\n"
   ]
  }
 ],
 "metadata": {
  "kernelspec": {
   "display_name": "Python 3",
   "language": "python",
   "name": "python3"
  },
  "language_info": {
   "codemirror_mode": {
    "name": "ipython",
    "version": 3
   },
   "file_extension": ".py",
   "mimetype": "text/x-python",
   "name": "python",
   "nbconvert_exporter": "python",
   "pygments_lexer": "ipython3",
   "version": "3.8.3"
  }
 },
 "nbformat": 4,
 "nbformat_minor": 4
}
