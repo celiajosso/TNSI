{
 "cells": [
  {
   "cell_type": "markdown",
   "metadata": {},
   "source": [
    "# Calculabilité - Problème de l’arrêt en Python"
   ]
  },
  {
   "cell_type": "markdown",
   "metadata": {},
   "source": [
    "## Un peu de théorie"
   ]
  },
  {
   "cell_type": "markdown",
   "metadata": {},
   "source": [
    "En informatique une **fonction** est **calculable** s'il existe un **algorithme** permettant d'effectuer le calcul (pour toute entrée) de la fonction en un **nombre fini d'étapes**.\n",
    "\n",
    "On dit également qu'un **problème** est **décidable** s'il existe un **algorithme** capable de résoudre le problème en un **nombre fini d'étape**s.\n",
    "\n",
    "Pendant très longtemps les mathématiciens ont considérés (intuitivement) que tout problème avait une solution, et qu'il suffisait de trouver la méthode qui permettrait de résoudre le problème.\n",
    "\n",
    "Puis la question s'est naturellement posée notamment lors de la publication des [23 problèmes](https://fr.wikipedia.org/wiki/Probl%C3%A8mes_de_Hilbert) (1900) de [David Hilbert](https://fr.wikipedia.org/wiki/David_Hilbert).\n",
    "\n",
    "Certains d'entre eux ne sont toujours pas résolus comme la [conjecture de Goldbach](https://fr.wikipedia.org/wiki/Conjecture_de_Goldbach) qui affirme que tout nombre entier pair supérieur à 3 peut s'écrire comme la somme de deux nombres premiers (12 = 5 + 7)."
   ]
  },
  {
   "cell_type": "markdown",
   "metadata": {},
   "source": [
    "Depuis les travaux de [Kurt Gödel](https://fr.wikipedia.org/wiki/Kurt_G%C3%B6del)à (1931) et d' [Alan Turing](https://fr.wikipedia.org/wiki/Alan_Turing) (1936), **on sait maintenant qu'il existe une infinité de problèmes non décidables** (de fonctions non calculables).\n",
    "\n",
    "Ces travaux ont conduit à déterminer les contours de ce qui est faisable ce qui a permis à l'informatique de naître."
   ]
  },
  {
   "cell_type": "markdown",
   "metadata": {},
   "source": [
    "## La machine de Turing"
   ]
  },
  {
   "cell_type": "markdown",
   "metadata": {},
   "source": [
    "Rappel de la classe de première : [chapitre calculabilité](https://github.com/sofaugeras/1NSI/tree/master/5%20Algorithmie/2_calculabilite)\n",
    "\n",
    "Et notamment les exercices fait avec la machine de turing (computerpaper.pdf)"
   ]
  },
  {
   "cell_type": "markdown",
   "metadata": {},
   "source": [
    "Alan Turing est l'un des grands esprits scientifiques du XXème siècle.\n",
    "\n",
    "Peu d'autres ont abordé, avec autant de succès, des domaines aussi variés. Mathématicien, héros (longtemps oublié) de la Seconde Guerre mondiale, il contribue à la victoire des Alliés en cassant les codes allemands... Pionnier de l'informatique, il conçoit un des premiers programmes informatiques, la fameuse \"machine de Turing\"."
   ]
  },
  {
   "cell_type": "markdown",
   "metadata": {},
   "source": [
    "[Vidéo La machine de Turing : tout ne se calcule pas](https://www.youtube.com/watch?reload=9&v=Kf-IHn1PvaQ&feature=youtu.be)"
   ]
  },
  {
   "cell_type": "code",
   "execution_count": null,
   "metadata": {
    "scrolled": true
   },
   "outputs": [],
   "source": [
    "from IPython.display import YouTubeVideo\n",
    "YouTubeVideo('https://www.youtube.com/watch?reload=9&v=Kf-IHn1PvaQ&feature=youtu.be')"
   ]
  },
  {
   "cell_type": "markdown",
   "metadata": {},
   "source": [
    "##  Le problème de l'arrêt"
   ]
  },
  {
   "cell_type": "markdown",
   "metadata": {},
   "source": [
    "La décidabilité est une notion fondamentale en logique et en informatique théorique, depuis longtemps, on croyait que tout problème mathématique est décidable jusqu'à la preuve d'Alan Turing avec le problème dit de l'arrêt.\n"
   ]
  },
  {
   "cell_type": "markdown",
   "metadata": {},
   "source": [
    "### le principe de la preuve"
   ]
  },
  {
   "cell_type": "markdown",
   "metadata": {},
   "source": [
    "Supposons l'existence d'un algorithme A<sub>H</sub> qui permet de savoir si un algorithme A s'arrête ou pas"
   ]
  },
  {
   "cell_type": "markdown",
   "metadata": {},
   "source": [
    "![preuve](data/image_pb_arret1.png)"
   ]
  },
  {
   "cell_type": "markdown",
   "metadata": {},
   "source": [
    "On considère alors l'algorithme B, qui n'existe que si A<sub>H</sub> existe.\n",
    "\n",
    "B prend en entrée un algorithme A, puis exécute A<sub>H</sub> sur A.\n",
    "\n",
    "* Si A s'arrête alors B entre dans une boucle infinie\n",
    "\n",
    "* Sinon B s'arrête en affichant par exemple \"stop\""
   ]
  },
  {
   "cell_type": "markdown",
   "metadata": {},
   "source": [
    "![preuve2](data/image_pb_arret2_1.png)"
   ]
  },
  {
   "cell_type": "markdown",
   "metadata": {},
   "source": [
    "**B étant un algorithme on peut donc effectuer B(B)**"
   ]
  },
  {
   "cell_type": "markdown",
   "metadata": {},
   "source": [
    "![preuve3](data/image_pb_arret3_1.png)"
   ]
  },
  {
   "cell_type": "markdown",
   "metadata": {},
   "source": [
    "### conclusion "
   ]
  },
  {
   "cell_type": "markdown",
   "metadata": {},
   "source": [
    "> B s'arrête si B ne s'arrête pas et B ne s'arrête pas si B  s'arrête .\n",
    "\n",
    "> Ces contradictions prouve que B n'existe pas et donc que A<sub>H</sub> n'existe pas"
   ]
  },
  {
   "cell_type": "markdown",
   "metadata": {},
   "source": [
    "## Pour aller plus loin :\n",
    "<center> <h1> Les théorèmes d'incomplétude de Gödel </h1> </center>\n",
    "\n",
    "Pour en savoir davantage sur les travaux de Kurt Gödel\n",
    "[Théorème d'incompletude de Gödel](https://youtu.be/82jOF4Q6gBU)"
   ]
  },
  {
   "cell_type": "code",
   "execution_count": null,
   "metadata": {},
   "outputs": [],
   "source": [
    "from IPython.display import YouTubeVideo\n",
    "YouTubeVideo('https://youtu.be/82jOF4Q6gBU')"
   ]
  },
  {
   "cell_type": "markdown",
   "metadata": {},
   "source": [
    "# Sources :\n",
    "1. [qkzk informatique au lycée des flandres](https://qkzk.xyz/docs/nsi/cours_terminale/prog/calculabilite/) Licence  CC-BY-NC\n",
    "2. [NSI Terminale](https://isn-icn-ljm.pagesperso-orange.fr/NSI-TLE/co/section_chapitre0.html)Licence CC-BY-NC\n",
    "3. Livre \"NSI 24 leçons avec exercices corrigés\" Edition Ellipses\n",
    "4. [pixees](https://pixees.fr/informatiquelycee/n_site/nsi_term_calcu.html) licence CC-BY-SA "
   ]
  }
 ],
 "metadata": {
  "kernelspec": {
   "display_name": "Python 3",
   "language": "python",
   "name": "python3"
  },
  "language_info": {
   "codemirror_mode": {
    "name": "ipython",
    "version": 3
   },
   "file_extension": ".py",
   "mimetype": "text/x-python",
   "name": "python",
   "nbconvert_exporter": "python",
   "pygments_lexer": "ipython3",
   "version": "3.8.3"
  }
 },
 "nbformat": 4,
 "nbformat_minor": 4
}
